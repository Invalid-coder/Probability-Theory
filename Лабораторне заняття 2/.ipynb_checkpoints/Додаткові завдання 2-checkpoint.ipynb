{
 "cells": [
  {
   "cell_type": "markdown",
   "metadata": {},
   "source": [
    "# Додаткові завдання №2"
   ]
  },
  {
   "cell_type": "markdown",
   "metadata": {},
   "source": [
    "## 1 Візуалізація емпіричної імовірності\n",
    "Побудуйте графік залежності емпіричної імовірності випадіння герба (HEAD) від кількості підкидань чесної монети (симуляцій).\n",
    "\n",
    "**Зауваження.** Завдання передбачає використання бібліотеки [Matplotlib](https://matplotlib.org/)."
   ]
  },
  {
   "cell_type": "code",
   "execution_count": 2,
   "metadata": {},
   "outputs": [
    {
     "data": {
      "image/png": "[encoded data removed]",
      "text/plain": [
       "<Figure size 432x288 with 1 Axes>"
      ]
     },
     "metadata": {
      "needs_background": "light"
     },
     "output_type": "display_data"
    }
   ],
   "source": [
    "# Місце для Вашого коду\n",
    "import numpy as np\n",
    "import matplotlib.pyplot as plt\n",
    "\n",
    "coin = [\"H\",\"T\"]\n",
    "probs = [0.5, 0.5]\n",
    "n = [10, 50, 100, 250, 500, 1000, 2500, 5000, 10000]\n",
    "probability = []\n",
    "\n",
    "for i in n:\n",
    "    tosses = np.random.choice(coin, p=probs, size=i)\n",
    "    heads = list(tosses).count(\"H\")\n",
    "    prob = float(heads / i)\n",
    "    probability.append(prob)\n",
    "\n",
    "x = np.arange(len(n))\n",
    "plt.bar(x, probability)\n",
    "plt.xticks(x, n)\n",
    "plt.show()\n"
   ]
  },
  {
   "cell_type": "markdown",
   "metadata": {},
   "source": [
    "## 2 Найбільше число\n",
    "Реалізуйте функцію підрахунку точної (теоретичної) імовірності того, що максимальне число після $n$ кидків різних гральних кубиків із кількістю сторін $f = \\{ f_i \\}_{i = 1}^{n}$ дорівнює $x\\_max$, для таких параметрів:\n",
    "- $f = \\{ 2, 5, 8 \\}, x\\_max = 8$\n",
    "- $f = \\{ 3, 4 \\}, x\\_max = 2$\n",
    "- $f = \\{ 2, 5, 7, 3 \\}, x\\_max = 3$\n",
    "\n",
    "Тобто, якщо $X_i, i = 1, \\ldots, n$, - число на $i$-му кидку кубика, а $X = \\max\\limits_{1 \\leq i \\leq n} X_i$, то потрібно знайти ймовірність $\\textbf{P} \\left( X = x\\_max \\right)$.\n",
    "\n",
    "Підрахуйте також емпіричні ймовірності відповідних подій у випадку $10000$ симуляцій.\n",
    "\n",
    "**Зауваження.** Якщо введені параметри не мають сенсу, то повертати $0$.\n",
    "Наприклад, якщо при $f = \\{ 4, 8, 3 \\}$ вводиться $x\\_max < 1$ або $x\\_max > 8$."
   ]
  },
  {
   "cell_type": "code",
   "execution_count": 8,
   "metadata": {},
   "outputs": [
    {
     "name": "stdout",
     "output_type": "stream",
     "text": [
      "n = 3, x_max = 8\n",
      "Theoretical: 0.125\n",
      "Empirical: 0.1253\n",
      "n = 2, x_max = 2\n",
      "Theoretical: 0.25\n",
      "Empirical: 0.2444\n",
      "n = 4, x_max = 3\n",
      "Theoretical: 0.18095238095238095\n",
      "Empirical: 0.1881\n"
     ]
    }
   ],
   "source": [
    "# Місце для Вашого коду\n",
    "import numpy as np\n",
    "import itertools\n",
    "N = 10000\n",
    "\n",
    "values = [[range(1, 3), range(1, 6), range(1, 9)],\n",
    "          [range(1, 4), range(1, 5)],\n",
    "          [range(1, 3), range(1, 6), range(1, 8), range(1, 4)]]\n",
    "\n",
    "pairs = [[values[0], 8, 8], [values[1], 2, 4], [values[2], 3, 7]]\n",
    "\n",
    "def probability(n,x_max, value):\n",
    "    lst = list(itertools.product(*value))\n",
    "    a = []\n",
    "    print('n = {}, x_max = {}'.format(len(value), x_max))\n",
    "    for x in lst:\n",
    "        if max(x) == x_max:\n",
    "            a.append(x)\n",
    "\n",
    "    return (len(a) / len(lst))\n",
    "\n",
    "for value, x_max, a in pairs:\n",
    "    if x_max >= 1 and x_max <= a:\n",
    "        print('Theoretical:', probability(1, x_max, value))\n",
    "\n",
    "        b = []\n",
    "\n",
    "        for i in range(N):\n",
    "            max_value = 0\n",
    "\n",
    "            for val in value:\n",
    "                max_value = max(np.random.choice(val, size=1), max_value)\n",
    "\n",
    "            b.append(max_value)\n",
    "\n",
    "        print('Empirical:', (b.count(x_max) / N))\n",
    "    else:\n",
    "        print(0)\n"
   ]
  },
  {
   "cell_type": "markdown",
   "metadata": {},
   "source": [
    "## 3 Сума чисел\n",
    "Реалізуйте функцію підрахунку точної (теоретичної) імовірності того, що сума чисел після $n$ кидків різних гральних кубиків із кількістю сторін $f = \\{ f_i \\}_{i = 1}^{n}$ дорівнює $s$, для таких параметрів:\n",
    "- $f = \\{ 3, 4, 5 \\}, s = 13$\n",
    "- $f = \\{ 2, 2 \\}, s = 3$\n",
    "- $f = \\{ 3, 4, 5 \\}, s = 7$\n",
    "\n",
    "Тобто, якщо $X_i, i = 1, \\ldots, n$, - число на $i$-му кидку кубика, а $X = \\sum\\limits_{i = 1}^{n} X_i$, то потрібно знайти ймовірність $\\textbf{P} \\left( X = s \\right)$.\n",
    "\n",
    "Підрахуйте також емпіричні ймовірності відповідних подій у випадку $10000$ симуляцій.\n",
    "\n",
    "**Зауваження.** Якщо введені параметри не мають сенсу, то повертати $0$.\n",
    "Наприклад, якщо при $f = \\{ 4, 6, 3 \\}$ вводиться $s < 3$ або $s > 13$."
   ]
  },
  {
   "cell_type": "code",
   "execution_count": 6,
   "metadata": {},
   "outputs": [
    {
     "name": "stdout",
     "output_type": "stream",
     "text": [
      "0\n",
      "n = 2, s = 3\n",
      "Theoretical: 0.5\n",
      "Empirical: 0.4958\n",
      "n = 3, s = 7\n",
      "Theoretical: 0.18333333333333332\n",
      "Empirical: 0.1895\n"
     ]
    }
   ],
   "source": [
    "import numpy as np\n",
    "import itertools\n",
    "N = 10000\n",
    "\n",
    "values = [[range(1, 4), range(1, 5), range(1, 6)],\n",
    "          [range(1, 3), range(1, 3)],\n",
    "          [range(1, 4), range(1, 5), range(1, 6)]]\n",
    "\n",
    "pairs = [[values[0], 13, 3, 12], [values[1], 3, 2, 4], [values[2], 7, 3, 12]]\n",
    "\n",
    "def probability(n, s, value):\n",
    "    lst = list(itertools.product(*value))\n",
    "    a = []\n",
    "    print('n = {}, s = {}'.format(len(value), s))\n",
    "    for x in lst:\n",
    "        if sum(x) == s:\n",
    "            a.append(x)\n",
    "\n",
    "    return (len(a) / len(lst))\n",
    "\n",
    "for value,s,a,b in pairs:\n",
    "    if s >= a and s <= b:\n",
    "        print('Theoretical:',probability(1,s, value))\n",
    "\n",
    "        b = []\n",
    "\n",
    "        for i in range(N):\n",
    "            suma = 0\n",
    "\n",
    "            for val in value:\n",
    "                suma += np.random.choice(val, size=1)\n",
    "\n",
    "            b.append(suma)\n",
    "\n",
    "        print('Empirical:', (b.count(s)/N))\n",
    "    else:\n",
    "        print(0)\n"
   ]
  }
 ],
 "metadata": {
  "kernelspec": {
   "display_name": "Python 3",
   "language": "python",
   "name": "python3"
  },
  "language_info": {
   "codemirror_mode": {
    "name": "ipython",
    "version": 3
   },
   "file_extension": ".py",
   "mimetype": "text/x-python",
   "name": "python",
   "nbconvert_exporter": "python",
   "pygments_lexer": "ipython3",
   "version": "3.7.0"
  }
 },
 "nbformat": 4,
 "nbformat_minor": 1
}
