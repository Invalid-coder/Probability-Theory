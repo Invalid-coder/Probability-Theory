{
 "cells": [
  {
   "cell_type": "markdown",
   "metadata": {},
   "source": [
    "# Домашня робота №2"
   ]
  },
  {
   "cell_type": "markdown",
   "metadata": {},
   "source": [
    "## 1 Пароль\n",
    "Напишіть програму (функцію) для генерування випадкового пароля з такими обмеженнями:\n",
    "- пароль складається з рівно $10$ символів\n",
    "- пароль містить хоча б одну маленьку латинську літеру [a-z]\n",
    "- пароль містить хоча б одну велику латинську літеру [A-Z]\n",
    "- пароль містить хоча б одну цифру [0-9]\n",
    "- пароль містить хоча б один спеціальний символ [~!@#$%^&*()-_+=\\/{}[].,?<>:;]"
   ]
  },
  {
   "cell_type": "code",
   "execution_count": 14,
   "metadata": {},
   "outputs": [
    {
     "name": "stdout",
     "output_type": "stream",
     "text": [
      "t0Z#oo3(3p\n"
     ]
    }
   ],
   "source": [
    "# Місце для Вашого коду\n",
    "import numpy as np\n",
    "\n",
    "password = ''\n",
    "numbers = [str(i) for i in range(0, 10)]\n",
    "lower_case = [chr(i) for i in range(ord('a'), ord('z') + 1)]\n",
    "upper_case = [chr(i).upper() for i in range(ord('a'), ord('z') + 1)]\n",
    "special_signs = list(\"~!@#$%^&*()-_+=/{}[].,?<>:;\")\n",
    "options = [numbers, lower_case, upper_case, special_signs]\n",
    "required = options.copy()\n",
    "\n",
    "while required:\n",
    "    np.random.shuffle(required)\n",
    "    option = required.pop(0)\n",
    "    password += np.random.choice(option)\n",
    "\n",
    "password += ''.join(np.random.choice(numbers + lower_case + upper_case + special_signs, size=6))\n",
    "#while len(password) < 10:\n",
    "   # option = np.random.choice(options)\n",
    "    #password += np.random.choice(option)\n",
    "\n",
    "print(password)"
   ]
  },
  {
   "cell_type": "markdown",
   "metadata": {},
   "source": [
    "## 2 Герби в ряд\n",
    "Реалізуйте функцію для обчислення емпіричної та теоретичної імовірностей випадіння $k$ гербів (HEADS) підряд у серії з $n$ підкидань чесної монетки. Підрахуйте відповідні ймовірності для таких параметрів:\n",
    "- $k = 2, n = 10, 50, 100, 500, 1000, 5000, 10000$\n",
    "- $k = 3, n = 10, 50, 100, 500, 1000, 5000, 10000$\n",
    "\n",
    "**Зауваження.** Нехай $k = 2, n = 10$ та маємо таку послідовність результатів підкидання монети: $\\{ H, T, H, H, H, H, T, T, H, T \\}$. Тоді матимемо $3$ випадки випадіння двох гербів підряд та емпіричну ймовірність такої події $1/3$."
   ]
  },
  {
   "cell_type": "code",
   "execution_count": 2,
   "metadata": {},
   "outputs": [
    {
     "name": "stdout",
     "output_type": "stream",
     "text": [
      "k = 2, n = 10 emperical = 0.2, theoretical = 0.25;\n",
      "k = 2, n = 50 emperical = 0.3, theoretical = 0.25;\n",
      "k = 2, n = 100 emperical = 0.31, theoretical = 0.25;\n",
      "k = 2, n = 500 emperical = 0.248, theoretical = 0.25;\n",
      "k = 2, n = 1000 emperical = 0.234, theoretical = 0.25;\n",
      "k = 2, n = 5000 emperical = 0.2534, theoretical = 0.25;\n",
      "k = 2, n = 10000 emperical = 0.2494, theoretical = 0.25;\n",
      "k = 3, n = 10 emperical = 0.1, theoretical = 0.125;\n",
      "k = 3, n = 50 emperical = 0.18, theoretical = 0.125;\n",
      "k = 3, n = 100 emperical = 0.06, theoretical = 0.125;\n",
      "k = 3, n = 500 emperical = 0.106, theoretical = 0.125;\n",
      "k = 3, n = 1000 emperical = 0.136, theoretical = 0.125;\n",
      "k = 3, n = 5000 emperical = 0.1382, theoretical = 0.125;\n",
      "k = 3, n = 10000 emperical = 0.1238, theoretical = 0.125;\n"
     ]
    }
   ],
   "source": [
    "# Місце для Вашого коду\n",
    "import numpy as np\n",
    "\n",
    "def emp_prob2(tos):\n",
    "    k = 0\n",
    "\n",
    "    for i in range(len(tos) - 1):\n",
    "        if (tos[i] == tos[i + 1] == 'H'):\n",
    "            k += 1\n",
    "    if k == 0:\n",
    "        return 0\n",
    "\n",
    "    res = k / len(tos)\n",
    "\n",
    "    return res\n",
    "\n",
    "def emp_prob3(tos):\n",
    "    k = 0\n",
    "\n",
    "    for i in range(len(tos) - 2):\n",
    "        if (tos[i] == tos[i + 1] == tos[i + 2] == 'H'):\n",
    "            k += 1\n",
    "    if k == 0:\n",
    "        return 0\n",
    "\n",
    "    res = k / len(tos)\n",
    "\n",
    "    return res\n",
    "\n",
    "\n",
    "n = [10, 50, 100, 500, 1000, 5000, 10000]\n",
    "\n",
    "for i in n:\n",
    "    p = 0.5\n",
    "    tosses = np.random.choice([\"H\", \"T\"], p=[p, 1 - p], size=i)\n",
    "    t = list(tosses)\n",
    "    print(\"k = 2, n = {} emperical = {}, theoretical = {};\".format(i, emp_prob2(t), 2 ** (i - 2) / (2 ** i)))\n",
    "\n",
    "for i in n:\n",
    "    p = 0.5\n",
    "    tosses1 = np.random.choice([\"H\", \"T\"], p=[p, 1 - p], size=i)\n",
    "    t1 = list(tosses1)\n",
    "    print(\"k = 3, n = {} emperical = {}, theoretical = {};\".format(i, emp_prob3(t1), 2 ** (i - 3) / (2 ** i)))\n"
   ]
  },
  {
   "cell_type": "markdown",
   "metadata": {},
   "source": [
    "## 3 Найбільше число\n",
    "Реалізуйте функцію підрахунку точної (теоретичної) імовірності того, що максимальне число після $n$ кидків звичайного грального кубика дорівнює $x\\_max$, для таких параметрів:\n",
    "- $n = 3, x\\_max = 6$\n",
    "- $n = 2, x\\_max = 3$\n",
    "- $n = 3, x\\_max = 5$\n",
    "\n",
    "Тобто, якщо $X_i, i = 1, \\ldots, n$, - число на $i$-му кидку кубика, а $X = \\max\\limits_{1 \\leq i \\leq n} X_i$, то потрібно знайти ймовірність $\\textbf{P} \\left( X = x\\_max \\right)$.\n",
    "\n",
    "Підрахуйте також емпіричні ймовірності відповідних подій у випадку $10000$ симуляцій.\n",
    "\n",
    "**Зауваження.** Якщо введені параметри не мають сенсу, то повертати $0$.\n",
    "Тобто, якщо вводиться $x\\_max < 1$ або $x\\_max > 6$."
   ]
  },
  {
   "cell_type": "code",
   "execution_count": 5,
   "metadata": {},
   "outputs": [
    {
     "name": "stdout",
     "output_type": "stream",
     "text": [
      "n = 3, x_max = 6\n",
      "Theoretical: 0.4212962962962963\n",
      "Empirical: 0.4259\n",
      "n = 2, x_max = 3\n",
      "Theoretical: 0.1388888888888889\n",
      "Empirical: 0.142\n",
      "n = 3, x_max = 5\n",
      "Theoretical: 0.2824074074074074\n",
      "Empirical: 0.2831\n"
     ]
    }
   ],
   "source": [
    "# Місце для Вашого коду\n",
    "import numpy as np\n",
    "import itertools\n",
    "N = 10000\n",
    "values = [1, 2, 3, 4, 5 ,6]\n",
    "pairs = [[3 ,6], [2,3], [3,5]]\n",
    "\n",
    "def prob(n,x_max):\n",
    "    lst = list(itertools.product(values, repeat=n))\n",
    "    print('n = {}, x_max = {}'.format(n, x_max))\n",
    "    a = []\n",
    "    for x in lst:\n",
    "        if max(x) == x_max:\n",
    "            a.append(x)\n",
    "\n",
    "    return (len(a) / len(lst))\n",
    "\n",
    "\n",
    "\n",
    "for n, x_max in pairs:\n",
    "     if (x_max >=1) or (x_max<=6):\n",
    "        print('Theoretical:',prob(n,x_max))\n",
    "        b = [max(np.random.choice(values, size=n)) for i  in range(N)]\n",
    "        print('Empirical:', (b.count(x_max)/N))\n",
    "     else:\n",
    "         print(0)\n"
   ]
  },
  {
   "cell_type": "markdown",
   "metadata": {},
   "source": [
    "## 4 Сума чисел\n",
    "Реалізуйте функцію підрахунку точної (теоретичної) імовірності того, що сума чисел після $n$ кидків звичайного грального кубика дорівнює $s$, для таких параметрів:\n",
    "- $n = 3, s = 13$\n",
    "- $n = 2, s = 5$\n",
    "- $n = 3, s = 7$\n",
    "\n",
    "Тобто, якщо $X_i, i = 1, \\ldots, n$, - число на $i$-му кидку кубика, а $X = \\sum\\limits_{i = 1}^{n} X_i$, то потрібно знайти ймовірність $\\textbf{P} \\left( X = s \\right)$.\n",
    "\n",
    "Підрахуйте також емпіричні ймовірності відповідних подій у випадку $10000$ симуляцій.\n",
    "\n",
    "**Зауваження.** Якщо введені параметри не мають сенсу, то повертати $0$.\n",
    "Наприклад, якщо при $n = 3$ вводиться $s < 3$ або $s > 18$."
   ]
  },
  {
   "cell_type": "code",
   "execution_count": 8,
   "metadata": {},
   "outputs": [
    {
     "name": "stdout",
     "output_type": "stream",
     "text": [
      "n = 3, sum = 13\n",
      "Theoretical: 0.09722222222222222\n",
      "Empirical: 0.1034\n",
      "n = 2, sum = 5\n",
      "Theoretical: 0.1111111111111111\n",
      "Empirical: 0.1122\n",
      "n = 3, sum = 7\n",
      "Theoretical: 0.06944444444444445\n",
      "Empirical: 0.0698\n"
     ]
    }
   ],
   "source": [
    "# Місце для Вашого коду\n",
    "import itertools\n",
    "import numpy as np\n",
    "\n",
    "\n",
    "N = 10000\n",
    "values = [1,2,3,4,5,6]\n",
    "pairs = [[3, 13], [2, 5], [3, 7]]\n",
    "\n",
    "def prob(n, s):\n",
    "    lst = list(itertools.product(values, repeat=n))\n",
    "    print('n = {}, sum = {}'.format(n, s))\n",
    "    a = []\n",
    "    for x in lst:\n",
    "        if sum(x) == s:\n",
    "            a.append(x)\n",
    "\n",
    "    return (len(a) / len(lst))\n",
    "\n",
    "for n, s in pairs:\n",
    "    if (s < n) or ( s > 6*n):\n",
    "        print(0)\n",
    "    else:\n",
    "        print('Theoretical:',prob(n,s))\n",
    "        b = [sum(np.random.choice(values, size=n)) for i  in range(N)]\n",
    "        print('Empirical:', (b.count(s)/N))\n"
   ]
  },
  {
   "cell_type": "code",
   "execution_count": null,
   "metadata": {},
   "outputs": [],
   "source": []
  }
 ],
 "metadata": {
  "kernelspec": {
   "display_name": "Python 3",
   "language": "python",
   "name": "python3"
  },
  "language_info": {
   "codemirror_mode": {
    "name": "ipython",
    "version": 3
   },
   "file_extension": ".py",
   "mimetype": "text/x-python",
   "name": "python",
   "nbconvert_exporter": "python",
   "pygments_lexer": "ipython3",
   "version": "3.7.0"
  }
 },
 "nbformat": 4,
 "nbformat_minor": 1
}
